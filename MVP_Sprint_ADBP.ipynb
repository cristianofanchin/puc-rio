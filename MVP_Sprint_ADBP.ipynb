{
  "nbformat": 4,
  "nbformat_minor": 0,
  "metadata": {
    "colab": {
      "provenance": [],
      "authorship_tag": "ABX9TyM/N9aMtTWswWxZTkiBdr+5",
      "include_colab_link": true
    },
    "kernelspec": {
      "name": "python3",
      "display_name": "Python 3"
    },
    "language_info": {
      "name": "python"
    }
  },
  "cells": [
    {
      "cell_type": "markdown",
      "metadata": {
        "id": "view-in-github",
        "colab_type": "text"
      },
      "source": [
        "<a href=\"https://colab.research.google.com/github/cristianofanchin/puc-rio/blob/main/MVP_Sprint_ADBP.ipynb\" target=\"_parent\"><img src=\"https://colab.research.google.com/assets/colab-badge.svg\" alt=\"Open In Colab\"/></a>"
      ]
    },
    {
      "cell_type": "code",
      "execution_count": null,
      "metadata": {
        "id": "ZS47w0WraerQ"
      },
      "outputs": [],
      "source": []
    },
    {
      "cell_type": "markdown",
      "source": [
        "# Puc-Rio\n",
        "## Pós-Graduação em Ciência de Dados e Analytics\n",
        "Aluno: Cristiano Weiber Fanchin\n",
        "\n",
        "\n",
        "# Sprint 1 - Análise de Dados e Boas Práticas"
      ],
      "metadata": {
        "id": "Mr3pu2cpavuQ"
      }
    },
    {
      "cell_type": "markdown",
      "source": [
        "Importação das bibliotecas necessárias"
      ],
      "metadata": {
        "id": "oU1k-oCKbRrk"
      }
    },
    {
      "cell_type": "code",
      "source": [
        "import pandas as pd"
      ],
      "metadata": {
        "id": "X4yPN9UmbAGF"
      },
      "execution_count": 1,
      "outputs": []
    },
    {
      "cell_type": "code",
      "source": [
        "url = 'https://raw.githubusercontent.com/cristianofanchin/puc-rio/refs/heads/main/people_personality_types.csv'\n",
        "df = pd.read_csv(url)"
      ],
      "metadata": {
        "id": "id7ndL1HbYqO"
      },
      "execution_count": 2,
      "outputs": []
    },
    {
      "cell_type": "code",
      "source": [
        "df.info()"
      ],
      "metadata": {
        "collapsed": true,
        "id": "j3Irp5oecEGr"
      },
      "execution_count": null,
      "outputs": []
    },
    {
      "cell_type": "code",
      "source": [
        "df.head()"
      ],
      "metadata": {
        "id": "8h4kfQtKcMcn"
      },
      "execution_count": null,
      "outputs": []
    },
    {
      "cell_type": "code",
      "source": [
        "df.describe()"
      ],
      "metadata": {
        "id": "TzK9mdIncOs9"
      },
      "execution_count": null,
      "outputs": []
    },
    {
      "cell_type": "code",
      "source": [
        "df.isnull().sum()"
      ],
      "metadata": {
        "id": "ZiJjoE9ZcQE6"
      },
      "execution_count": null,
      "outputs": []
    },
    {
      "cell_type": "code",
      "source": [
        "df.duplicated().sum()"
      ],
      "metadata": {
        "id": "AMHLnvyncZpF"
      },
      "execution_count": null,
      "outputs": []
    },
    {
      "cell_type": "code",
      "source": [],
      "metadata": {
        "id": "cK3WAAmic0CD"
      },
      "execution_count": null,
      "outputs": []
    }
  ]
}